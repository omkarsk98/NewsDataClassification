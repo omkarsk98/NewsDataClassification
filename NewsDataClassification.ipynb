{
  "nbformat": 4,
  "nbformat_minor": 0,
  "metadata": {
    "colab": {
      "name": "NewsDataClassification.ipynb",
      "provenance": [],
      "collapsed_sections": [],
      "machine_shape": "hm",
      "include_colab_link": true
    },
    "kernelspec": {
      "name": "python3",
      "display_name": "Python 3"
    }
  },
  "cells": [
    {
      "cell_type": "markdown",
      "metadata": {
        "id": "view-in-github",
        "colab_type": "text"
      },
      "source": [
        "<a href=\"https://colab.research.google.com/github/omkarsk98/NewsDataClassification/blob/development/NewsDataClassification.ipynb\" target=\"_parent\"><img src=\"https://colab.research.google.com/assets/colab-badge.svg\" alt=\"Open In Colab\"/></a>"
      ]
    },
    {
      "cell_type": "code",
      "metadata": {
        "id": "OtVE_u-I0m91",
        "colab_type": "code",
        "outputId": "7829fb59-2fa2-4a2c-dc43-92b9495ec210",
        "colab": {
          "base_uri": "https://localhost:8080/",
          "height": 34
        }
      },
      "source": [
        "!git clone https://github.com/omkarsk98/NewsDataClassification.git"
      ],
      "execution_count": 1,
      "outputs": [
        {
          "output_type": "stream",
          "text": [
            "fatal: destination path 'NewsDataClassification' already exists and is not an empty directory.\n"
          ],
          "name": "stdout"
        }
      ]
    },
    {
      "cell_type": "code",
      "metadata": {
        "id": "Y8wVHW5d00z1",
        "colab_type": "code",
        "outputId": "bf5eb812-4d7a-42ba-d0eb-ed386ffc3f66",
        "colab": {
          "base_uri": "https://localhost:8080/",
          "height": 34
        }
      },
      "source": [
        "%cd NewsDataClassification"
      ],
      "execution_count": 2,
      "outputs": [
        {
          "output_type": "stream",
          "text": [
            "/content/NewsDataClassification\n"
          ],
          "name": "stdout"
        }
      ]
    },
    {
      "cell_type": "code",
      "metadata": {
        "id": "8Ivy1jcg1KVc",
        "colab_type": "code",
        "outputId": "fb960b99-d081-4f78-df47-d4a18a8adbac",
        "colab": {
          "base_uri": "https://localhost:8080/",
          "height": 51
        }
      },
      "source": [
        "!git checkout development"
      ],
      "execution_count": 3,
      "outputs": [
        {
          "output_type": "stream",
          "text": [
            "Already on 'development'\n",
            "Your branch is up to date with 'origin/development'.\n"
          ],
          "name": "stdout"
        }
      ]
    },
    {
      "cell_type": "code",
      "metadata": {
        "id": "qTChM-bd_umC",
        "colab_type": "code",
        "outputId": "9dca339e-5c74-44b0-853b-518c1e578cff",
        "colab": {
          "base_uri": "https://localhost:8080/",
          "height": 136
        }
      },
      "source": [
        "!wget -c \"https://s3.amazonaws.com/dl4j-distribution/GoogleNews-vectors-negative300.bin.gz\""
      ],
      "execution_count": 4,
      "outputs": [
        {
          "output_type": "stream",
          "text": [
            "--2019-10-09 19:36:51--  https://s3.amazonaws.com/dl4j-distribution/GoogleNews-vectors-negative300.bin.gz\n",
            "Resolving s3.amazonaws.com (s3.amazonaws.com)... 52.216.168.253\n",
            "Connecting to s3.amazonaws.com (s3.amazonaws.com)|52.216.168.253|:443... connected.\n",
            "HTTP request sent, awaiting response... 416 Requested Range Not Satisfiable\n",
            "\n",
            "    The file is already fully retrieved; nothing to do.\n",
            "\n"
          ],
          "name": "stdout"
        }
      ]
    },
    {
      "cell_type": "code",
      "metadata": {
        "id": "LV1FV6q2n61M",
        "colab_type": "code",
        "colab": {
          "base_uri": "https://localhost:8080/",
          "height": 51
        },
        "outputId": "13759b98-2398-4449-8716-234756237cfa"
      },
      "source": [
        "!gunzip GoogleNews-vectors-negative300.bin.gz"
      ],
      "execution_count": 5,
      "outputs": [
        {
          "output_type": "stream",
          "text": [
            "gzip: GoogleNews-vectors-negative300.bin already exists; do you wish to overwrite (y or n)? n\n",
            "\tnot overwritten\n"
          ],
          "name": "stdout"
        }
      ]
    },
    {
      "cell_type": "code",
      "metadata": {
        "id": "y9-41Dib1B-w",
        "colab_type": "code",
        "outputId": "8438602b-dc01-40c8-dbdf-165e4faca550",
        "colab": {
          "base_uri": "https://localhost:8080/",
          "height": 68
        }
      },
      "source": [
        "!ls"
      ],
      "execution_count": 6,
      "outputs": [
        {
          "output_type": "stream",
          "text": [
            "GoogleNews-vectors-negative300.bin     NewsDataClassification.ipynb\n",
            "GoogleNews-vectors-negative300.bin.gz  News_Final.csv\n",
            "index.py\t\t\t       README.md\n"
          ],
          "name": "stdout"
        }
      ]
    },
    {
      "cell_type": "code",
      "metadata": {
        "id": "OJDZ2gA83IWg",
        "colab_type": "code",
        "outputId": "86ccddcc-53ee-47c3-91a6-e3c1223bc456",
        "colab": {
          "base_uri": "https://localhost:8080/",
          "height": 102
        }
      },
      "source": [
        "import nltk\n",
        "nltk.download('punkt')\n",
        "nltk.download('stopwords')  "
      ],
      "execution_count": 7,
      "outputs": [
        {
          "output_type": "stream",
          "text": [
            "[nltk_data] Downloading package punkt to /root/nltk_data...\n",
            "[nltk_data]   Package punkt is already up-to-date!\n",
            "[nltk_data] Downloading package stopwords to /root/nltk_data...\n",
            "[nltk_data]   Package stopwords is already up-to-date!\n"
          ],
          "name": "stdout"
        },
        {
          "output_type": "execute_result",
          "data": {
            "text/plain": [
              "True"
            ]
          },
          "metadata": {
            "tags": []
          },
          "execution_count": 7
        }
      ]
    },
    {
      "cell_type": "code",
      "metadata": {
        "id": "c8ozUYJ3oXO0",
        "colab_type": "code",
        "colab": {}
      },
      "source": [
        "import pandas as pd\n",
        "from gensim import models\n",
        "from sklearn.linear_model import LogisticRegression\n",
        "import numpy as np\n",
        "from nltk.tokenize import word_tokenize\n",
        "from nltk.corpus import stopwords\n",
        "from sklearn.metrics import accuracy_score ,confusion_matrix\n",
        "import time\n",
        "from sklearn.manifold import TSNE"
      ],
      "execution_count": 0,
      "outputs": []
    },
    {
      "cell_type": "code",
      "metadata": {
        "id": "w70GDVH6tL1r",
        "colab_type": "code",
        "outputId": "fa19b7f6-37ba-4932-f0f5-5e6c87decf6e",
        "colab": {
          "base_uri": "https://localhost:8080/",
          "height": 71
        }
      },
      "source": [
        "# read csv\n",
        "main_data = pd.read_csv('News_Final.csv')\n",
        "# read titles from it\n",
        "article_titles = main_data['TITLE']\n",
        "labels = main_data[\"CATEGORY\"]\n",
        "\n",
        "# Create a list of strings, one for each title\n",
        "titles_list = [title for title in article_titles]\n",
        "# form a single string fro the list of strings\n",
        "big_title_string = ' '.join(titles_list)"
      ],
      "execution_count": 9,
      "outputs": [
        {
          "output_type": "stream",
          "text": [
            "/usr/local/lib/python3.6/dist-packages/IPython/core/interactiveshell.py:2718: DtypeWarning: Columns (11) have mixed types. Specify dtype option on import or set low_memory=False.\n",
            "  interactivity=interactivity, compiler=compiler, result=result)\n"
          ],
          "name": "stderr"
        }
      ]
    },
    {
      "cell_type": "code",
      "metadata": {
        "id": "9WqUDhgQJaIQ",
        "colab_type": "code",
        "colab": {}
      },
      "source": [
        "# Tokenize the string into words\n",
        "tokens = word_tokenize(big_title_string)\n",
        "\n",
        "# Remove non-alphabetic tokens, such as punctuation\n",
        "words = [word.lower() for word in tokens if word.isalpha()]\n",
        "stop_words = set(stopwords.words('english'))\n",
        "words = [word for word in words if not word in stop_words]"
      ],
      "execution_count": 0,
      "outputs": []
    },
    {
      "cell_type": "code",
      "metadata": {
        "id": "55YAVl-Oua1m",
        "colab_type": "code",
        "outputId": "e4af94c1-9e9d-4305-9b6a-ba15dbda5953",
        "colab": {
          "base_uri": "https://localhost:8080/",
          "height": 88
        }
      },
      "source": [
        "# Load word2vec model (trained on an enormous Google corpus)\n",
        "model = models.KeyedVectors.load_word2vec_format('GoogleNews-vectors-negative300.bin', binary = True) \n",
        "# Check dimension of word vectors\n",
        "print(\"Dimensions of the model\",model.vector_size)"
      ],
      "execution_count": 11,
      "outputs": [
        {
          "output_type": "stream",
          "text": [
            "/usr/local/lib/python3.6/dist-packages/smart_open/smart_open_lib.py:398: UserWarning: This function is deprecated, use smart_open.open instead. See the migration notes for details: https://github.com/RaRe-Technologies/smart_open/blob/master/README.rst#migrating-to-the-new-open-function\n",
            "  'See the migration notes for details: %s' % _MIGRATION_NOTES_URL\n"
          ],
          "name": "stderr"
        },
        {
          "output_type": "stream",
          "text": [
            "Dimensions of the model 300\n"
          ],
          "name": "stdout"
        }
      ]
    },
    {
      "cell_type": "code",
      "metadata": {
        "id": "P_h-pzrEzhNS",
        "colab_type": "code",
        "colab": {}
      },
      "source": [
        "# Using some pre built functions\n",
        "def document_vector(word2vec_model, doc):\n",
        "    # remove out-of-vocabulary words\n",
        "    doc = [word for word in doc if word in model.vocab]\n",
        "    return np.mean(model[doc], axis=0)\n",
        "\n",
        "# Our earlier preprocessing was done when we were dealing only with word vectors\n",
        "# Here, we need each document to remain a document \n",
        "def preprocess(text):\n",
        "    text = text.lower()\n",
        "    doc = word_tokenize(text)\n",
        "    doc = [word for word in doc if word not in stop_words]\n",
        "    doc = [word for word in doc if word.isalpha()] \n",
        "    return doc\n",
        "\n",
        "# Function that will help us drop documents that have no word vectors in word2vec\n",
        "def has_vector_representation(word2vec_model, doc):\n",
        "    \"\"\"check if at least one word of the document is in the\n",
        "    word2vec dictionary\"\"\"\n",
        "    return not all(word not in word2vec_model.vocab for word in doc)\n",
        "\n",
        "# Filter out documents\n",
        "def filter_docs(corpus, texts, labels, condition_on_doc):\n",
        "    \"\"\"\n",
        "    Filter corpus and texts given the function condition_on_doc which takes a doc. The document doc is kept if condition_on_doc(doc) is true.\n",
        "    \"\"\"\n",
        "    number_of_docs = len(corpus)\n",
        "    \n",
        "    if texts is not None:\n",
        "        texts = [text for (text, doc) in zip(texts, corpus)\n",
        "                 if condition_on_doc(doc)]\n",
        "    \n",
        "\n",
        "    corpus = [doc for doc in corpus if condition_on_doc(doc)]\n",
        "    \n",
        "    final_labels = []\n",
        "    for i in range(len(corpus)):\n",
        "      if condition_on_doc(corpus[i]):\n",
        "        final_labels.append(labels[i])\n",
        "    \n",
        "    print(\"{} docs removed\".format(number_of_docs - len(corpus)))\n",
        "\n",
        "    return (corpus, texts, final_labels)"
      ],
      "execution_count": 0,
      "outputs": []
    },
    {
      "cell_type": "code",
      "metadata": {
        "id": "n-19jVUuzsHe",
        "colab_type": "code",
        "outputId": "fa3ce32f-c7b6-4043-ccfd-63c120c52068",
        "colab": {
          "base_uri": "https://localhost:8080/",
          "height": 85
        }
      },
      "source": [
        "# # Preprocess the corpus to get list of documents with stop words removed and containing only the words that are present in the vocab\n",
        "corpus = [preprocess(title) for title in titles_list]\n",
        "# # still contains all the dcuments, nothing is filtered\n",
        "# # corpus[0] => ['fed', 'official', 'says', 'weak', 'data', 'caused', 'weather', 'slow', 'taper']\n",
        "# # corpus[1] => ['fed', 'charles', 'plosser', 'sees', 'high', 'bar', 'change', 'pace', 'tapering']\n",
        "\n",
        "# # Remove docs that don't include any words in W2V's vocab\n",
        "corpus, titles_list, labels = filter_docs(corpus, titles_list, labels, lambda doc: has_vector_representation(model, doc))\n",
        "print(\"1st filter\",len(corpus), len(titles_list), len(labels))\n",
        "# # corpus[0] => ['fed', 'official', 'says', 'weak', 'data', 'caused', 'weather', 'slow', 'taper']\n",
        "# # corpus[1] => ['fed', 'charles', 'plosser', 'sees', 'high', 'bar', 'change', 'pace', 'tapering']\n",
        "# # titles_list[0] => Fed official says weak data caused by weather, should not slow taper\n",
        "# # titles_list[1] => Fed's Charles Plosser sees high bar for change in pace of tapering\n",
        "\n",
        "\n",
        "# # Filter out any empty docs\n",
        "corpus, titles_list, labels = filter_docs(corpus, titles_list, labels, lambda doc: (len(doc) != 0))\n",
        "print(\"2nd filter\",len(corpus), len(titles_list), len(labels))\n",
        "# # corpus[0] => ['fed', 'official', 'says', 'weak', 'data', 'caused', 'weather', 'slow', 'taper']\n",
        "# # titles_list[0] => Fed official says weak data caused by weather, should not slow taper\n",
        "\n",
        "x = []\n",
        "for doc in corpus: # append the vector for each document\n",
        "    x.append(document_vector(model, doc))"
      ],
      "execution_count": 13,
      "outputs": [
        {
          "output_type": "stream",
          "text": [
            "241 docs removed\n",
            "1st filter 422178 422178 422178\n",
            "0 docs removed\n",
            "2nd filter 422178 422178 422178\n"
          ],
          "name": "stdout"
        }
      ]
    },
    {
      "cell_type": "code",
      "metadata": {
        "id": "Md8PjWZJVqrO",
        "colab_type": "code",
        "colab": {
          "base_uri": "https://localhost:8080/",
          "height": 34
        },
        "outputId": "efc54fee-0245-49f8-d3ae-30f4e8c0ae95"
      },
      "source": [
        "vectorsForEachDocument = np.array(x) # list to array\n",
        "labels = np.array(labels)\n",
        "len(vectorsForEachDocument)"
      ],
      "execution_count": 14,
      "outputs": [
        {
          "output_type": "execute_result",
          "data": {
            "text/plain": [
              "422178"
            ]
          },
          "metadata": {
            "tags": []
          },
          "execution_count": 14
        }
      ]
    },
    {
      "cell_type": "markdown",
      "metadata": {
        "id": "AAtrcPVp7rkr",
        "colab_type": "text"
      },
      "source": [
        "# **What all does the data contain at the moment.**\n",
        "\n",
        "---\n",
        "corpus: A list containing a list of words of which stop words are removed. Only the words that are present in the vocab are present here.<br>\n",
        "titles_list: It contains a list of all titles.<br>\n",
        "vectorsForEachDocument: It contains vectors for each document. This attribute can be used as the feature.<br>\n",
        "labels: Contains the category for respective title. This attribute can be used as the label.<br>"
      ]
    },
    {
      "cell_type": "code",
      "metadata": {
        "id": "NQn1TGh01kGP",
        "colab_type": "code",
        "outputId": "62a0fe68-67ce-4aa3-d75a-8b7cbfa31a5f",
        "colab": {
          "base_uri": "https://localhost:8080/",
          "height": 34
        }
      },
      "source": [
        "# vectorsForEachDocument.shape\n",
        "labels = labels.reshape(len(labels),1)\n",
        "labels.shape\n",
        "vectorsForEachDocument.shape"
      ],
      "execution_count": 15,
      "outputs": [
        {
          "output_type": "execute_result",
          "data": {
            "text/plain": [
              "(422178, 300)"
            ]
          },
          "metadata": {
            "tags": []
          },
          "execution_count": 15
        }
      ]
    },
    {
      "cell_type": "markdown",
      "metadata": {
        "id": "gK8LtVKbPGhz",
        "colab_type": "text"
      },
      "source": [
        "**Reduce the dimensions of the vectors.**"
      ]
    },
    {
      "cell_type": "code",
      "metadata": {
        "id": "dzraKyNYOaAr",
        "colab_type": "code",
        "colab": {
          "base_uri": "https://localhost:8080/",
          "height": 34
        },
        "outputId": "bdf542af-bb5a-4efa-d57b-79278aca322f"
      },
      "source": [
        "tic = time.time()\n",
        "vectorsForEachDocument =  TSNE(n_components=2).fit_transform(vectorsForEachDocument[0:25000])\n",
        "toc = time.time()\n",
        "print(\"Reduced to \"+str(vectorsForEachDocument.shape)+\" in \"+\"{0:.2f}\".format(toc-tic)+\" seconds\")"
      ],
      "execution_count": 16,
      "outputs": [
        {
          "output_type": "stream",
          "text": [
            "Reduced to (25000, 2) in 883.89 seconds\n"
          ],
          "name": "stdout"
        }
      ]
    },
    {
      "cell_type": "markdown",
      "metadata": {
        "id": "_5cM68QXWsBa",
        "colab_type": "text"
      },
      "source": [
        "# Time required for reducing dimensions\n",
        "\n",
        "---\n",
        "Reduced to (200, 100) in 9.75 seconds. <br>\n",
        "Reduced to (500, 2) in 3.06 seconds. <br>\n",
        "Reduced to (10000, 2) in 187.40 seconds. <br>\n",
        "Reduced to (25000, 2) in 855.39 seconds. <br>\n",
        "\n",
        "**Note:**<br>\n",
        "*Utilises 25GB RAM in google colab for reducing 100000 vectors to dimension of 100.* <br>\n",
        "*Same RAM utilisation for reducing 100000 vectors to dimension of 50 and same for 10 dimensions*"
      ]
    },
    {
      "cell_type": "markdown",
      "metadata": {
        "id": "ZX1EyTWP7E9P",
        "colab_type": "text"
      },
      "source": [
        "Normalise the matrix"
      ]
    },
    {
      "cell_type": "code",
      "metadata": {
        "id": "SmmilelU5Mgb",
        "colab_type": "code",
        "colab": {}
      },
      "source": [
        "vectorsForEachDocument = vectorsForEachDocument/np.linalg.norm(vectorsForEachDocument, ord = 2, axis = 1, keepdims = True)"
      ],
      "execution_count": 0,
      "outputs": []
    },
    {
      "cell_type": "code",
      "metadata": {
        "id": "kM1zaZDX6FRO",
        "colab_type": "code",
        "colab": {
          "base_uri": "https://localhost:8080/",
          "height": 102
        },
        "outputId": "662a6e91-a1ba-4e82-a5eb-78ded8e97348"
      },
      "source": [
        "vectorsForEachDocument[:5]"
      ],
      "execution_count": 20,
      "outputs": [
        {
          "output_type": "execute_result",
          "data": {
            "text/plain": [
              "array([[-0.88209945,  0.4710632 ],\n",
              "       [-0.8753173 ,  0.48354912],\n",
              "       [-0.8789141 ,  0.47698   ],\n",
              "       [-0.87172145,  0.49000183],\n",
              "       [-0.89591765,  0.4442202 ]], dtype=float32)"
            ]
          },
          "metadata": {
            "tags": []
          },
          "execution_count": 20
        }
      ]
    },
    {
      "cell_type": "markdown",
      "metadata": {
        "id": "zokc8R5s7nH-",
        "colab_type": "text"
      },
      "source": [
        "Save data and labels as dataframe to downlaod it."
      ]
    },
    {
      "cell_type": "code",
      "metadata": {
        "id": "lc40d1IU7txC",
        "colab_type": "code",
        "colab": {}
      },
      "source": [
        "normalisedData = pd.DataFrame.from_records(vectorsForEachDocument)\n",
        "normalisedData.columns = range(1,3)\n",
        "normalisedData[\"labels\"] = labels[:25000]\n",
        "normalisedData.to_csv('NormalisedData.csv')"
      ],
      "execution_count": 0,
      "outputs": []
    },
    {
      "cell_type": "code",
      "metadata": {
        "id": "7skjrdWIGoYK",
        "colab_type": "code",
        "colab": {}
      },
      "source": [
        "from google.colab import files\n",
        "files.download('NormalisedData.csv')"
      ],
      "execution_count": 0,
      "outputs": []
    },
    {
      "cell_type": "markdown",
      "metadata": {
        "id": "17fLx5KcBoI8",
        "colab_type": "text"
      },
      "source": [
        "# Split the data\n",
        "---\n",
        "**Train Data**: Use 80% of the data for training purpose. <br>\n",
        "**Test Data**: Use 20% of the data for testing purpose. <br>\n",
        "**Features**: Use 300 dimensional vectors as features. It can be found in `vectorsForEachDocument`.<br>\n",
        "**Labels**: Use the categories as labels. I can be found in `labels`.<br>"
      ]
    },
    {
      "cell_type": "code",
      "metadata": {
        "id": "YvfSgoRmBdIp",
        "colab_type": "code",
        "outputId": "7002eff0-8cc7-4896-d409-e0b0e2aef61a",
        "colab": {
          "base_uri": "https://localhost:8080/",
          "height": 34
        }
      },
      "source": [
        "train = int((80/100)*len(vectorsForEachDocument))\n",
        "# train = 50000\n",
        "test = len(vectorsForEachDocument)-train\n",
        "trainFeatures, testFeatures = vectorsForEachDocument[:train], vectorsForEachDocument[train:train+test]\n",
        "trainLabels, testLabels = labels[:train], labels[train:train+test]\n",
        "trainFeatures.shape, trainLabels.shape, testFeatures.shape, testLabels.shape"
      ],
      "execution_count": 27,
      "outputs": [
        {
          "output_type": "execute_result",
          "data": {
            "text/plain": [
              "((20000, 2), (20000, 1), (5000, 2), (5000, 1))"
            ]
          },
          "metadata": {
            "tags": []
          },
          "execution_count": 27
        }
      ]
    },
    {
      "cell_type": "markdown",
      "metadata": {
        "id": "KPMISgZnDsB6",
        "colab_type": "text"
      },
      "source": [
        "**Lengths of Training and test data** <br>\n",
        "Training Set contains 337742 records.<br>\n",
        "Test Set contains 84436 records.<br><br>\n",
        "**Shapes of the data** <br>\n",
        "trainFeatures: (20000,2) <br>\n",
        "trainLabels: (5000,1) <br>\n",
        "testFeatures: (20000,2) <br>\n",
        "testLabels: (5000,1) <br>"
      ]
    },
    {
      "cell_type": "markdown",
      "metadata": {
        "id": "a60mKGCXHvx8",
        "colab_type": "text"
      },
      "source": [
        "# **Train the logistic regression model** <br>"
      ]
    },
    {
      "cell_type": "code",
      "metadata": {
        "id": "87M4P4AJHccd",
        "colab_type": "code",
        "colab": {}
      },
      "source": [
        "tic = time.time()\n",
        "logistic_Regression = LogisticRegression()\n",
        "logistic_Regression.fit(trainFeatures,trainLabels)\n",
        "Y_predict = logistic_Regression.predict(testFeatures)\n",
        "print(accuracy_score(testLabels,Y_predict))\n",
        "toc = time.time()\n",
        "print(\"Time taken:\"+str(toc-tic)+\" seconds\")"
      ],
      "execution_count": 0,
      "outputs": []
    },
    {
      "cell_type": "markdown",
      "metadata": {
        "id": "8dB0ddhLqZux",
        "colab_type": "text"
      },
      "source": [
        "# **Outcomes of the training** <br>\n",
        "\n",
        "---\n",
        "1.   With Train(9000) and test(1000): Accuracy=65.2% in 80 seconds\n",
        "\n"
      ]
    }
  ]
}