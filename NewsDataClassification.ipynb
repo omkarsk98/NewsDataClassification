{
  "nbformat": 4,
  "nbformat_minor": 0,
  "metadata": {
    "colab": {
      "name": "NewsDataClassification.ipynb",
      "provenance": [],
      "collapsed_sections": [],
      "machine_shape": "hm",
      "include_colab_link": true
    },
    "kernelspec": {
      "name": "python3",
      "display_name": "Python 3"
    }
  },
  "cells": [
    {
      "cell_type": "markdown",
      "metadata": {
        "id": "view-in-github",
        "colab_type": "text"
      },
      "source": [
        "<a href=\"https://colab.research.google.com/github/omkarsk98/NewsDataClassification/blob/development/NewsDataClassification.ipynb\" target=\"_parent\"><img src=\"https://colab.research.google.com/assets/colab-badge.svg\" alt=\"Open In Colab\"/></a>"
      ]
    },
    {
      "cell_type": "markdown",
      "metadata": {
        "id": "zUJRD-W05nMs",
        "colab_type": "text"
      },
      "source": [
        "Download the repo for original and raw csv data"
      ]
    },
    {
      "cell_type": "code",
      "metadata": {
        "id": "OtVE_u-I0m91",
        "colab_type": "code",
        "outputId": "953351eb-291d-4c5d-a0ff-b3fa628ddb28",
        "colab": {
          "base_uri": "https://localhost:8080/",
          "height": 119
        }
      },
      "source": [
        "!git clone https://github.com/omkarsk98/NewsDataClassification.git"
      ],
      "execution_count": 1,
      "outputs": [
        {
          "output_type": "stream",
          "text": [
            "Cloning into 'NewsDataClassification'...\n",
            "remote: Enumerating objects: 68, done.\u001b[K\n",
            "remote: Counting objects: 100% (68/68), done.\u001b[K\n",
            "remote: Compressing objects: 100% (62/62), done.\u001b[K\n",
            "remote: Total 68 (delta 32), reused 23 (delta 4), pack-reused 0\u001b[K\n",
            "Unpacking objects: 100% (68/68), done.\n"
          ],
          "name": "stdout"
        }
      ]
    },
    {
      "cell_type": "markdown",
      "metadata": {
        "id": "1FmiqMubHZ_a",
        "colab_type": "text"
      },
      "source": [
        "Go the directory and checkout to the required folder"
      ]
    },
    {
      "cell_type": "code",
      "metadata": {
        "id": "Y8wVHW5d00z1",
        "colab_type": "code",
        "outputId": "dd3af498-111c-456f-dc2c-20c51f08823a",
        "colab": {
          "base_uri": "https://localhost:8080/",
          "height": 68
        }
      },
      "source": [
        "%cd NewsDataClassification\n",
        "!git checkout development"
      ],
      "execution_count": 2,
      "outputs": [
        {
          "output_type": "stream",
          "text": [
            "/content/NewsDataClassification\n",
            "Branch 'development' set up to track remote branch 'development' from 'origin'.\n",
            "Switched to a new branch 'development'\n"
          ],
          "name": "stdout"
        }
      ]
    },
    {
      "cell_type": "markdown",
      "metadata": {
        "id": "WZiinfyg54Ta",
        "colab_type": "text"
      },
      "source": [
        "Download trained model and unzip it."
      ]
    },
    {
      "cell_type": "code",
      "metadata": {
        "id": "qTChM-bd_umC",
        "colab_type": "code",
        "outputId": "8f3f30fc-f847-4cf6-e6fc-99e7e9899ae2",
        "colab": {
          "base_uri": "https://localhost:8080/",
          "height": 204
        }
      },
      "source": [
        "!wget -c \"https://s3.amazonaws.com/dl4j-distribution/GoogleNews-vectors-negative300.bin.gz\"\n",
        "!gunzip GoogleNews-vectors-negative300.bin.gz"
      ],
      "execution_count": 3,
      "outputs": [
        {
          "output_type": "stream",
          "text": [
            "--2019-10-10 15:44:19--  https://s3.amazonaws.com/dl4j-distribution/GoogleNews-vectors-negative300.bin.gz\n",
            "Resolving s3.amazonaws.com (s3.amazonaws.com)... 52.217.8.190\n",
            "Connecting to s3.amazonaws.com (s3.amazonaws.com)|52.217.8.190|:443... connected.\n",
            "HTTP request sent, awaiting response... 200 OK\n",
            "Length: 1647046227 (1.5G) [application/x-gzip]\n",
            "Saving to: ‘GoogleNews-vectors-negative300.bin.gz’\n",
            "\n",
            "GoogleNews-vectors- 100%[===================>]   1.53G  64.8MB/s    in 25s     \n",
            "\n",
            "2019-10-10 15:44:45 (61.8 MB/s) - ‘GoogleNews-vectors-negative300.bin.gz’ saved [1647046227/1647046227]\n",
            "\n"
          ],
          "name": "stdout"
        }
      ]
    },
    {
      "cell_type": "markdown",
      "metadata": {
        "id": "b5leTMSU5-wT",
        "colab_type": "text"
      },
      "source": [
        "Download nltk libraries and dependencies"
      ]
    },
    {
      "cell_type": "code",
      "metadata": {
        "id": "OJDZ2gA83IWg",
        "colab_type": "code",
        "outputId": "5f267c39-beba-43a0-9db7-2e40d6e4f716",
        "colab": {
          "base_uri": "https://localhost:8080/",
          "height": 102
        }
      },
      "source": [
        "import nltk\n",
        "nltk.download('punkt')\n",
        "nltk.download('stopwords')  "
      ],
      "execution_count": 4,
      "outputs": [
        {
          "output_type": "stream",
          "text": [
            "[nltk_data] Downloading package punkt to /root/nltk_data...\n",
            "[nltk_data]   Unzipping tokenizers/punkt.zip.\n",
            "[nltk_data] Downloading package stopwords to /root/nltk_data...\n",
            "[nltk_data]   Unzipping corpora/stopwords.zip.\n"
          ],
          "name": "stdout"
        },
        {
          "output_type": "execute_result",
          "data": {
            "text/plain": [
              "True"
            ]
          },
          "metadata": {
            "tags": []
          },
          "execution_count": 4
        }
      ]
    },
    {
      "cell_type": "markdown",
      "metadata": {
        "id": "Og2mnsbQ6EzL",
        "colab_type": "text"
      },
      "source": [
        "import all required libraries"
      ]
    },
    {
      "cell_type": "code",
      "metadata": {
        "id": "c8ozUYJ3oXO0",
        "colab_type": "code",
        "colab": {}
      },
      "source": [
        "import pandas as pd\n",
        "from gensim import models\n",
        "from sklearn.linear_model import LogisticRegression\n",
        "import numpy as np\n",
        "from nltk.tokenize import word_tokenize\n",
        "from nltk.corpus import stopwords\n",
        "from sklearn.metrics import accuracy_score ,confusion_matrix\n",
        "import time\n",
        "from sklearn.manifold import TSNE\n",
        "from google.colab import files"
      ],
      "execution_count": 0,
      "outputs": []
    },
    {
      "cell_type": "code",
      "metadata": {
        "id": "55YAVl-Oua1m",
        "colab_type": "code",
        "outputId": "459a2260-fa8c-414b-c66e-989980f179cd",
        "colab": {
          "base_uri": "https://localhost:8080/",
          "height": 88
        }
      },
      "source": [
        "# Load word2vec model (trained on Google's corpus)\n",
        "model = models.KeyedVectors.load_word2vec_format('GoogleNews-vectors-negative300.bin', binary = True) \n",
        "# Check dimension of word vectors\n",
        "print(\"Dimensions of the model\",model.vector_size)"
      ],
      "execution_count": 7,
      "outputs": [
        {
          "output_type": "stream",
          "text": [
            "/usr/local/lib/python3.6/dist-packages/smart_open/smart_open_lib.py:398: UserWarning: This function is deprecated, use smart_open.open instead. See the migration notes for details: https://github.com/RaRe-Technologies/smart_open/blob/master/README.rst#migrating-to-the-new-open-function\n",
            "  'See the migration notes for details: %s' % _MIGRATION_NOTES_URL\n"
          ],
          "name": "stderr"
        },
        {
          "output_type": "stream",
          "text": [
            "Dimensions of the model 300\n"
          ],
          "name": "stdout"
        }
      ]
    },
    {
      "cell_type": "markdown",
      "metadata": {
        "id": "7p8AmIVB6KPk",
        "colab_type": "text"
      },
      "source": [
        "Read the raw data and set max records to be used"
      ]
    },
    {
      "cell_type": "code",
      "metadata": {
        "id": "w70GDVH6tL1r",
        "colab_type": "code",
        "outputId": "72f9ee1b-3bd4-43b1-9cce-a6dcb6b28b55",
        "colab": {
          "base_uri": "https://localhost:8080/",
          "height": 71
        }
      },
      "source": [
        "# read csv\n",
        "main_data = pd.read_csv('News_Final.csv')\n",
        "\n",
        "# read titles from it\n",
        "article_titles = main_data['TITLE']\n",
        "labels = main_data[\"CATEGORY\"]\n",
        "\n",
        "# Create a list of strings, one for each title\n",
        "titles_list = [title for title in article_titles]\n",
        "# form a single string fro the list of strings\n",
        "big_title_string = ' '.join(titles_list)\n",
        "\n",
        "# define total records to be considered for analysis\n",
        "total = 50000\n",
        "# 422178 total records as max value"
      ],
      "execution_count": 27,
      "outputs": [
        {
          "output_type": "stream",
          "text": [
            "/usr/local/lib/python3.6/dist-packages/IPython/core/interactiveshell.py:2718: DtypeWarning: Columns (11) have mixed types. Specify dtype option on import or set low_memory=False.\n",
            "  interactivity=interactivity, compiler=compiler, result=result)\n"
          ],
          "name": "stderr"
        }
      ]
    },
    {
      "cell_type": "markdown",
      "metadata": {
        "id": "tzMgB8HD6dbT",
        "colab_type": "text"
      },
      "source": [
        "Tokenise all words and get stop words for english"
      ]
    },
    {
      "cell_type": "code",
      "metadata": {
        "id": "9WqUDhgQJaIQ",
        "colab_type": "code",
        "colab": {}
      },
      "source": [
        "# Tokenize the string into words\n",
        "tokens = word_tokenize(big_title_string)\n",
        "\n",
        "# Remove non-alphabetic tokens, such as punctuation\n",
        "words = [word.lower() for word in tokens if word.isalpha()]\n",
        "stop_words = set(stopwords.words('english'))"
      ],
      "execution_count": 0,
      "outputs": []
    },
    {
      "cell_type": "markdown",
      "metadata": {
        "id": "Uo5Yg-u06i7I",
        "colab_type": "text"
      },
      "source": [
        "Define all the function that can be used for later stage"
      ]
    },
    {
      "cell_type": "code",
      "metadata": {
        "id": "P_h-pzrEzhNS",
        "colab_type": "code",
        "colab": {}
      },
      "source": [
        "def document_vector(word2vec_model, doc):\n",
        "    # remove out-of-vocabulary words\n",
        "    doc = [word for word in doc if word in model.vocab]\n",
        "    return np.mean(model[doc], axis=0)\n",
        "\n",
        "# Our earlier preprocessing was done when we were dealing only with word vectors\n",
        "# Here, we need each document to remain a document \n",
        "def preprocess(text):\n",
        "    text = text.lower()\n",
        "    doc = word_tokenize(text)\n",
        "    doc = [word for word in doc if word not in stop_words]\n",
        "    doc = [word for word in doc if word.isalpha()] \n",
        "    return doc\n",
        "\n",
        "# Function that will help us drop documents that have no word vectors in word2vec\n",
        "def has_vector_representation(word2vec_model, doc):\n",
        "    \"\"\"check if at least one word of the document is in the\n",
        "    word2vec dictionary\"\"\"\n",
        "    return not all(word not in word2vec_model.vocab for word in doc)\n",
        "\n",
        "# Filter out documents\n",
        "def filter_docs(corpus, texts, labels, condition_on_doc):\n",
        "    \"\"\"\n",
        "    Filter corpus and texts given the function condition_on_doc which takes a doc. The document doc is kept if condition_on_doc(doc) is true.\n",
        "    \"\"\"\n",
        "    number_of_docs = len(corpus)\n",
        "    \n",
        "    if texts is not None:\n",
        "        texts = [text for (text, doc) in zip(texts, corpus)\n",
        "                 if condition_on_doc(doc)]\n",
        "    \n",
        "\n",
        "    corpus = [doc for doc in corpus if condition_on_doc(doc)]\n",
        "    \n",
        "    final_labels = []\n",
        "    for i in range(len(corpus)):\n",
        "      if condition_on_doc(corpus[i]):\n",
        "        final_labels.append(labels[i])\n",
        "    \n",
        "    print(\"{} docs removed\".format(number_of_docs - len(corpus)))\n",
        "\n",
        "    return (corpus, texts, final_labels)"
      ],
      "execution_count": 0,
      "outputs": []
    },
    {
      "cell_type": "markdown",
      "metadata": {
        "id": "zNpB7L-a6njk",
        "colab_type": "text"
      },
      "source": [
        "Remove stop words, non vocab words, empty docs and prepare vector for each title"
      ]
    },
    {
      "cell_type": "code",
      "metadata": {
        "id": "n-19jVUuzsHe",
        "colab_type": "code",
        "outputId": "66f984ef-a342-4044-a59e-3890929c6c3f",
        "colab": {
          "base_uri": "https://localhost:8080/",
          "height": 85
        }
      },
      "source": [
        "# # Preprocess the corpus to get list of documents with stop words removed and containing only the words that are present in the vocab\n",
        "corpus = [preprocess(title) for title in titles_list]\n",
        "# # still contains all the documents, nothing is filtered\n",
        "\n",
        "# # Remove docs that don't include any words in W2V's vocab\n",
        "corpus, titles_list, labels = filter_docs(corpus, titles_list, labels, lambda doc: has_vector_representation(model, doc))\n",
        "print(\"1st filter: Length of corpus:\"+str(len(corpus))+\", Length of titles_list:\"+ str(len(titles_list))+\", Length of labels:\"+str(len(labels)))\n",
        "\n",
        "# # Filter out any empty docs\n",
        "corpus, titles_list, labels = filter_docs(corpus, titles_list, labels, lambda doc: (len(doc) != 0))\n",
        "print(\"2nd filter: Length of corpus:\"+str(len(corpus))+\", Length of titles_list:\"+ str(len(titles_list))+\", Length of labels:\"+str(len(labels)))\n",
        "\n",
        "x = []\n",
        "for doc in corpus: # append the vector for each document\n",
        "    x.append(document_vector(model, doc))"
      ],
      "execution_count": 30,
      "outputs": [
        {
          "output_type": "stream",
          "text": [
            "241 docs removed\n",
            "1st filter: Length of corpus:422178, Length of titles_list:422178, Length of labels:422178\n",
            "0 docs removed\n",
            "2nd filter: Length of corpus:422178, Length of titles_list:422178, Length of labels:422178\n"
          ],
          "name": "stdout"
        }
      ]
    },
    {
      "cell_type": "markdown",
      "metadata": {
        "id": "C8Tp1BD1ibrf",
        "colab_type": "text"
      },
      "source": [
        "# **After removing stop words and empty docs** <br>\n",
        "\n",
        "---\n",
        "241 docs removed <br>\n",
        "1st filter: Length of corpus:422178, Length of titles_list:422178, Length of labels:422178 <br>\n",
        "0 docs removed <br>\n",
        "2nd filter: Length of corpus:422178, Length of titles_list:422178, Length of labels:422178 <br>"
      ]
    },
    {
      "cell_type": "code",
      "metadata": {
        "id": "Md8PjWZJVqrO",
        "colab_type": "code",
        "outputId": "b4189a25-8186-4abe-bba0-78807e38542d",
        "colab": {
          "base_uri": "https://localhost:8080/",
          "height": 34
        }
      },
      "source": [
        "vectorsForEachDocument = np.array(x) # list to array\n",
        "labels = np.array(labels)\n",
        "labels = labels.reshape(labels.shape[0],1)\n",
        "vectorsForEachDocument.shape, labels.shape"
      ],
      "execution_count": 31,
      "outputs": [
        {
          "output_type": "execute_result",
          "data": {
            "text/plain": [
              "((422178, 300), (422178, 1))"
            ]
          },
          "metadata": {
            "tags": []
          },
          "execution_count": 31
        }
      ]
    },
    {
      "cell_type": "markdown",
      "metadata": {
        "id": "v-pmoZA-of0k",
        "colab_type": "text"
      },
      "source": [
        "# **Vectors for each title** \n",
        "\n",
        "---\n",
        "A list of vectors of 300 dimensions each for all the titles and labels contain the respective labels<br>\n",
        "Shape of these vectors is (422178, 300) <br>\n",
        "Shape pf it respective labels (422178, 1)"
      ]
    },
    {
      "cell_type": "markdown",
      "metadata": {
        "id": "dToFAFzWpPi5",
        "colab_type": "text"
      },
      "source": [
        "# **Filter improper labels**\n",
        "\n",
        "---\n",
        "Filter out the data that has improper labels. Labels should only be of the following types. <br>\n",
        "1. b: business\n",
        "2. t: technology\n",
        "3. e: entertainment\n",
        "4. m: health"
      ]
    },
    {
      "cell_type": "code",
      "metadata": {
        "id": "T28DgqDk4M93",
        "colab_type": "code",
        "outputId": "8c8f0e04-d2a4-46d6-b64f-2c80b4f870b4",
        "colab": {
          "base_uri": "https://localhost:8080/",
          "height": 34
        }
      },
      "source": [
        "# filter out data that has improper labels\n",
        "possibleLabels = [\"b\",\"t\",\"e\",\"m\"]\n",
        "finalLabels = []\n",
        "features = []\n",
        "for i in range(len(labels)):\n",
        "  if labels[i] in possibleLabels:\n",
        "    finalLabels.append(labels[i])\n",
        "    features.append(vectorsForEachDocument[i])\n",
        "  if(len(finalLabels)==total):\n",
        "    break\n",
        "\n",
        "\n",
        "features = np.array(features)\n",
        "labels = np.array(finalLabels)\n",
        "labels = labels.reshape(labels.shape[0],1)\n",
        "features.shape, labels.shape"
      ],
      "execution_count": 32,
      "outputs": [
        {
          "output_type": "execute_result",
          "data": {
            "text/plain": [
              "((50000, 300), (50000, 1))"
            ]
          },
          "metadata": {
            "tags": []
          },
          "execution_count": 32
        }
      ]
    },
    {
      "cell_type": "markdown",
      "metadata": {
        "id": "dT1O6Fg30g9j",
        "colab_type": "text"
      },
      "source": [
        "# **Create a dataframe to shuffle it**\n",
        "\n",
        "---\n",
        "Create dataframe to shuffle it and split it."
      ]
    },
    {
      "cell_type": "code",
      "metadata": {
        "id": "lc40d1IU7txC",
        "colab_type": "code",
        "outputId": "bf6b4c80-ca26-458f-d2e6-ec548fdeb66b",
        "colab": {
          "base_uri": "https://localhost:8080/",
          "height": 34
        }
      },
      "source": [
        "finalData = pd.DataFrame.from_records(features)\n",
        "finalData.columns = range(1,301)\n",
        "finalData[\"labels\"] = labels\n",
        "# finalData.to_csv('FinalData.csv')\n",
        "data = finalData.sample(frac=1) #shuffles the data\n",
        "labels = data[\"labels\"]\n",
        "labels = np.array(labels) \n",
        "labels = labels.reshape(labels.shape[0],1)\n",
        "del data[\"labels\"]\n",
        "features = np.array(data)\n",
        "features.shape, labels.shape"
      ],
      "execution_count": 33,
      "outputs": [
        {
          "output_type": "execute_result",
          "data": {
            "text/plain": [
              "((50000, 300), (50000, 1))"
            ]
          },
          "metadata": {
            "tags": []
          },
          "execution_count": 33
        }
      ]
    },
    {
      "cell_type": "markdown",
      "metadata": {
        "id": "17fLx5KcBoI8",
        "colab_type": "text"
      },
      "source": [
        "# Split the data\n",
        "---\n",
        "**Train Data**: Use 80% of the data for training purpose. <br>\n",
        "**Test Data**: Use 20% of the data for testing purpose. <br>\n",
        "**Features**: Use 300 dimensional vectors as features. It can be found in `vectorsForEachDocument`.<br>\n",
        "**Labels**: Use the categories as labels. I can be found in `labels`.<br>"
      ]
    },
    {
      "cell_type": "code",
      "metadata": {
        "id": "YvfSgoRmBdIp",
        "colab_type": "code",
        "outputId": "94946ee4-269c-4ddc-f105-6d2f1a9c92cb",
        "colab": {
          "base_uri": "https://localhost:8080/",
          "height": 34
        }
      },
      "source": [
        "train = int((80/100)*len(features))\n",
        "trainFeatures, testFeatures = features[:train], features[train:]\n",
        "trainLabels, testLabels = labels[:train], labels[train:]\n",
        "trainFeatures.shape, trainLabels.shape, testFeatures.shape, testLabels.shape"
      ],
      "execution_count": 34,
      "outputs": [
        {
          "output_type": "execute_result",
          "data": {
            "text/plain": [
              "((40000, 300), (40000, 1), (10000, 300), (10000, 1))"
            ]
          },
          "metadata": {
            "tags": []
          },
          "execution_count": 34
        }
      ]
    },
    {
      "cell_type": "markdown",
      "metadata": {
        "id": "KPMISgZnDsB6",
        "colab_type": "text"
      },
      "source": [
        "**Shapes of the data** <br>\n",
        "trainFeatures: (160000,300) <br>\n",
        "trainLabels: (160000,1) <br>\n",
        "testFeatures: (40000,300) <br>\n",
        "testLabels: (40000,1) <br>"
      ]
    },
    {
      "cell_type": "markdown",
      "metadata": {
        "id": "a60mKGCXHvx8",
        "colab_type": "text"
      },
      "source": [
        "# **Train the logistic regression model** <br>"
      ]
    },
    {
      "cell_type": "code",
      "metadata": {
        "id": "87M4P4AJHccd",
        "colab_type": "code",
        "outputId": "1a91df86-ab2f-465b-80e7-33c43cac2117",
        "colab": {
          "base_uri": "https://localhost:8080/",
          "height": 105
        }
      },
      "source": [
        "tic = time.time()\n",
        "logistic_Regression = LogisticRegression(multi_class=\"auto\", solver=\"lbfgs\", max_iter=1000)\n",
        "logistic_Regression.fit(trainFeatures,trainLabels)\n",
        "Y_predict = logistic_Regression.predict(testFeatures)\n",
        "print(str((accuracy_score(testLabels,Y_predict)*100))+\"%\")\n",
        "toc = time.time()\n",
        "print(\"Time taken:\"+str(toc-tic)+\" seconds\")"
      ],
      "execution_count": 35,
      "outputs": [
        {
          "output_type": "stream",
          "text": [
            "/usr/local/lib/python3.6/dist-packages/sklearn/utils/validation.py:724: DataConversionWarning: A column-vector y was passed when a 1d array was expected. Please change the shape of y to (n_samples, ), for example using ravel().\n",
            "  y = column_or_1d(y, warn=True)\n"
          ],
          "name": "stderr"
        },
        {
          "output_type": "stream",
          "text": [
            "85.81%\n",
            "Time taken:11.240290403366089 seconds\n"
          ],
          "name": "stdout"
        }
      ]
    },
    {
      "cell_type": "markdown",
      "metadata": {
        "id": "8dB0ddhLqZux",
        "colab_type": "text"
      },
      "source": [
        "# **Outcomes of the training** <br>\n",
        "\n",
        "---\n",
        "|Train |Test |Dimensions |Accuracy |Time(sec) | Comments |\n",
        "|---|---|---|---|---|---|\n",
        "|40000|10000|300|86|12|Data randomly shuffled|\n",
        "|80000|20000|300|78|53||\n",
        "|40000|10000|300|74|12||\n",
        "|80000|20000|300|78|53||\n",
        "|24000|6000|300|73|11||\n",
        "|160000|40000|300|72|53||\n"
      ]
    }
  ]
}