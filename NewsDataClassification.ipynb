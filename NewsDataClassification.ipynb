{
  "nbformat": 4,
  "nbformat_minor": 0,
  "metadata": {
    "colab": {
      "name": "NewsDataClassification.ipynb",
      "provenance": [],
      "collapsed_sections": [],
      "machine_shape": "hm",
      "include_colab_link": true
    },
    "kernelspec": {
      "name": "python3",
      "display_name": "Python 3"
    }
  },
  "cells": [
    {
      "cell_type": "markdown",
      "metadata": {
        "id": "view-in-github",
        "colab_type": "text"
      },
      "source": [
        "<a href=\"https://colab.research.google.com/github/omkarsk98/NewsDataClassification/blob/development/NewsDataClassification.ipynb\" target=\"_parent\"><img src=\"https://colab.research.google.com/assets/colab-badge.svg\" alt=\"Open In Colab\"/></a>"
      ]
    },
    {
      "cell_type": "code",
      "metadata": {
        "id": "OtVE_u-I0m91",
        "colab_type": "code",
        "outputId": "272ffd2e-886f-4178-8e8f-645ac81ab8a0",
        "colab": {
          "base_uri": "https://localhost:8080/",
          "height": 119
        }
      },
      "source": [
        "!git clone https://github.com/omkarsk98/NewsDataClassification.git"
      ],
      "execution_count": 3,
      "outputs": [
        {
          "output_type": "stream",
          "text": [
            "Cloning into 'NewsDataClassification'...\n",
            "remote: Enumerating objects: 26, done.\u001b[K\n",
            "remote: Counting objects:   3% (1/26)\u001b[K\rremote: Counting objects:   7% (2/26)\u001b[K\rremote: Counting objects:  11% (3/26)\u001b[K\rremote: Counting objects:  15% (4/26)\u001b[K\rremote: Counting objects:  19% (5/26)\u001b[K\rremote: Counting objects:  23% (6/26)\u001b[K\rremote: Counting objects:  26% (7/26)\u001b[K\rremote: Counting objects:  30% (8/26)\u001b[K\rremote: Counting objects:  34% (9/26)\u001b[K\rremote: Counting objects:  38% (10/26)\u001b[K\rremote: Counting objects:  42% (11/26)\u001b[K\rremote: Counting objects:  46% (12/26)\u001b[K\rremote: Counting objects:  50% (13/26)\u001b[K\rremote: Counting objects:  53% (14/26)\u001b[K\rremote: Counting objects:  57% (15/26)\u001b[K\rremote: Counting objects:  61% (16/26)\u001b[K\rremote: Counting objects:  65% (17/26)\u001b[K\rremote: Counting objects:  69% (18/26)\u001b[K\rremote: Counting objects:  73% (19/26)\u001b[K\rremote: Counting objects:  76% (20/26)\u001b[K\rremote: Counting objects:  80% (21/26)\u001b[K\rremote: Counting objects:  84% (22/26)\u001b[K\rremote: Counting objects:  88% (23/26)\u001b[K\rremote: Counting objects:  92% (24/26)\u001b[K\rremote: Counting objects:  96% (25/26)\u001b[K\rremote: Counting objects: 100% (26/26)\u001b[K\rremote: Counting objects: 100% (26/26), done.\u001b[K\n",
            "remote: Compressing objects: 100% (24/24), done.\u001b[K\n",
            "remote: Total 26 (delta 9), reused 9 (delta 0), pack-reused 0\u001b[K\n",
            "Unpacking objects: 100% (26/26), done.\n"
          ],
          "name": "stdout"
        }
      ]
    },
    {
      "cell_type": "code",
      "metadata": {
        "id": "Y8wVHW5d00z1",
        "colab_type": "code",
        "outputId": "43b94ede-d377-4a4d-8835-fd297d7e0203",
        "colab": {
          "base_uri": "https://localhost:8080/",
          "height": 34
        }
      },
      "source": [
        "%cd NewsDataClassification"
      ],
      "execution_count": 4,
      "outputs": [
        {
          "output_type": "stream",
          "text": [
            "/content/NewsDataClassification\n"
          ],
          "name": "stdout"
        }
      ]
    },
    {
      "cell_type": "code",
      "metadata": {
        "id": "8Ivy1jcg1KVc",
        "colab_type": "code",
        "outputId": "2431475e-0b2f-432f-c43e-20b24cef6e4c",
        "colab": {
          "base_uri": "https://localhost:8080/",
          "height": 51
        }
      },
      "source": [
        "!git checkout development"
      ],
      "execution_count": 5,
      "outputs": [
        {
          "output_type": "stream",
          "text": [
            "Branch 'development' set up to track remote branch 'development' from 'origin'.\n",
            "Switched to a new branch 'development'\n"
          ],
          "name": "stdout"
        }
      ]
    },
    {
      "cell_type": "code",
      "metadata": {
        "id": "qTChM-bd_umC",
        "colab_type": "code",
        "outputId": "5ec00ddb-1069-4dcd-e1ee-040f187c544a",
        "colab": {
          "base_uri": "https://localhost:8080/",
          "height": 204
        }
      },
      "source": [
        "!wget -c \"https://s3.amazonaws.com/dl4j-distribution/GoogleNews-vectors-negative300.bin.gz\""
      ],
      "execution_count": 6,
      "outputs": [
        {
          "output_type": "stream",
          "text": [
            "--2019-10-09 04:47:52--  https://s3.amazonaws.com/dl4j-distribution/GoogleNews-vectors-negative300.bin.gz\n",
            "Resolving s3.amazonaws.com (s3.amazonaws.com)... 52.216.137.38\n",
            "Connecting to s3.amazonaws.com (s3.amazonaws.com)|52.216.137.38|:443... connected.\n",
            "HTTP request sent, awaiting response... 200 OK\n",
            "Length: 1647046227 (1.5G) [application/x-gzip]\n",
            "Saving to: ‘GoogleNews-vectors-negative300.bin.gz’\n",
            "\n",
            "GoogleNews-vectors- 100%[===================>]   1.53G  45.7MB/s    in 24s     \n",
            "\n",
            "2019-10-09 04:48:16 (65.5 MB/s) - ‘GoogleNews-vectors-negative300.bin.gz’ saved [1647046227/1647046227]\n",
            "\n"
          ],
          "name": "stdout"
        }
      ]
    },
    {
      "cell_type": "code",
      "metadata": {
        "id": "LV1FV6q2n61M",
        "colab_type": "code",
        "colab": {}
      },
      "source": [
        "!gunzip GoogleNews-vectors-negative300.bin.gz"
      ],
      "execution_count": 0,
      "outputs": []
    },
    {
      "cell_type": "code",
      "metadata": {
        "id": "y9-41Dib1B-w",
        "colab_type": "code",
        "outputId": "72c087eb-5d96-4ad7-c459-651aa517cbe2",
        "colab": {
          "base_uri": "https://localhost:8080/",
          "height": 51
        }
      },
      "source": [
        "!ls"
      ],
      "execution_count": 8,
      "outputs": [
        {
          "output_type": "stream",
          "text": [
            "GoogleNews-vectors-negative300.bin  NewsDataClassification.ipynb  README.md\n",
            "index.py\t\t\t    News_Final.csv\n"
          ],
          "name": "stdout"
        }
      ]
    },
    {
      "cell_type": "code",
      "metadata": {
        "id": "OJDZ2gA83IWg",
        "colab_type": "code",
        "outputId": "2f664aa7-8835-405c-a918-0cbe5c2e2b7d",
        "colab": {
          "base_uri": "https://localhost:8080/",
          "height": 102
        }
      },
      "source": [
        "import nltk\n",
        "nltk.download('punkt')\n",
        "nltk.download('stopwords')  "
      ],
      "execution_count": 9,
      "outputs": [
        {
          "output_type": "stream",
          "text": [
            "[nltk_data] Downloading package punkt to /root/nltk_data...\n",
            "[nltk_data]   Unzipping tokenizers/punkt.zip.\n",
            "[nltk_data] Downloading package stopwords to /root/nltk_data...\n",
            "[nltk_data]   Unzipping corpora/stopwords.zip.\n"
          ],
          "name": "stdout"
        },
        {
          "output_type": "execute_result",
          "data": {
            "text/plain": [
              "True"
            ]
          },
          "metadata": {
            "tags": []
          },
          "execution_count": 9
        }
      ]
    },
    {
      "cell_type": "code",
      "metadata": {
        "id": "c8ozUYJ3oXO0",
        "colab_type": "code",
        "colab": {}
      },
      "source": [
        "import pandas as pd\n",
        "from gensim import models\n",
        "from sklearn.linear_model import LogisticRegression\n",
        "import numpy as np\n",
        "from nltk.tokenize import word_tokenize\n",
        "from nltk.corpus import stopwords\n",
        "import sys"
      ],
      "execution_count": 0,
      "outputs": []
    },
    {
      "cell_type": "code",
      "metadata": {
        "id": "w70GDVH6tL1r",
        "colab_type": "code",
        "outputId": "0f355481-e469-46a2-9dde-dc3a5b7bf1d3",
        "colab": {
          "base_uri": "https://localhost:8080/",
          "height": 71
        }
      },
      "source": [
        "# read csv\n",
        "main_data = pd.read_csv('News_Final.csv')\n",
        "# read titles from it\n",
        "article_titles = main_data['TITLE']\n",
        "labels = main_data[\"CATEGORY\"]\n",
        "\n",
        "# Create a list of strings, one for each title\n",
        "titles_list = [title for title in article_titles]\n",
        "# form a single string fro the list of strings\n",
        "big_title_string = ' '.join(titles_list)"
      ],
      "execution_count": 11,
      "outputs": [
        {
          "output_type": "stream",
          "text": [
            "/usr/local/lib/python3.6/dist-packages/IPython/core/interactiveshell.py:2718: DtypeWarning: Columns (11) have mixed types. Specify dtype option on import or set low_memory=False.\n",
            "  interactivity=interactivity, compiler=compiler, result=result)\n"
          ],
          "name": "stderr"
        }
      ]
    },
    {
      "cell_type": "code",
      "metadata": {
        "id": "9WqUDhgQJaIQ",
        "colab_type": "code",
        "colab": {}
      },
      "source": [
        "# Tokenize the string into words\n",
        "tokens = word_tokenize(big_title_string)\n",
        "\n",
        "# Remove non-alphabetic tokens, such as punctuation\n",
        "words = [word.lower() for word in tokens if word.isalpha()]\n",
        "stop_words = set(stopwords.words('english'))\n",
        "words = [word for word in words if not word in stop_words]"
      ],
      "execution_count": 0,
      "outputs": []
    },
    {
      "cell_type": "code",
      "metadata": {
        "id": "55YAVl-Oua1m",
        "colab_type": "code",
        "outputId": "e2c12cd2-f3dc-4c2d-d02a-9279c2e268b8",
        "colab": {
          "base_uri": "https://localhost:8080/",
          "height": 88
        }
      },
      "source": [
        "# Load word2vec model (trained on an enormous Google corpus)\n",
        "model = models.KeyedVectors.load_word2vec_format('GoogleNews-vectors-negative300.bin', binary = True) \n",
        "# Check dimension of word vectors\n",
        "print(\"Dimensions of the model\",model.vector_size)"
      ],
      "execution_count": 13,
      "outputs": [
        {
          "output_type": "stream",
          "text": [
            "/usr/local/lib/python3.6/dist-packages/smart_open/smart_open_lib.py:398: UserWarning: This function is deprecated, use smart_open.open instead. See the migration notes for details: https://github.com/RaRe-Technologies/smart_open/blob/master/README.rst#migrating-to-the-new-open-function\n",
            "  'See the migration notes for details: %s' % _MIGRATION_NOTES_URL\n"
          ],
          "name": "stderr"
        },
        {
          "output_type": "stream",
          "text": [
            "Dimensions of the model 300\n"
          ],
          "name": "stdout"
        }
      ]
    },
    {
      "cell_type": "code",
      "metadata": {
        "id": "P_h-pzrEzhNS",
        "colab_type": "code",
        "colab": {}
      },
      "source": [
        "# Using some pre built functions\n",
        "def document_vector(word2vec_model, doc):\n",
        "    # remove out-of-vocabulary words\n",
        "    doc = [word for word in doc if word in model.vocab]\n",
        "    return np.mean(model[doc], axis=0)\n",
        "\n",
        "# Our earlier preprocessing was done when we were dealing only with word vectors\n",
        "# Here, we need each document to remain a document \n",
        "def preprocess(text):\n",
        "    text = text.lower()\n",
        "    doc = word_tokenize(text)\n",
        "    doc = [word for word in doc if word not in stop_words]\n",
        "    doc = [word for word in doc if word.isalpha()] \n",
        "    return doc\n",
        "\n",
        "# Function that will help us drop documents that have no word vectors in word2vec\n",
        "def has_vector_representation(word2vec_model, doc):\n",
        "    \"\"\"check if at least one word of the document is in the\n",
        "    word2vec dictionary\"\"\"\n",
        "    return not all(word not in word2vec_model.vocab for word in doc)\n",
        "\n",
        "# Filter out documents\n",
        "def filter_docs(corpus, texts, labels, condition_on_doc):\n",
        "    \"\"\"\n",
        "    Filter corpus and texts given the function condition_on_doc which takes a doc. The document doc is kept if condition_on_doc(doc) is true.\n",
        "    \"\"\"\n",
        "    number_of_docs = len(corpus)\n",
        "    \n",
        "    if texts is not None:\n",
        "        texts = [text for (text, doc) in zip(texts, corpus)\n",
        "                 if condition_on_doc(doc)]\n",
        "    \n",
        "\n",
        "    corpus = [doc for doc in corpus if condition_on_doc(doc)]\n",
        "    \n",
        "    final_labels = []\n",
        "    for i in range(len(corpus)):\n",
        "      if condition_on_doc(corpus[i]):\n",
        "        final_labels.append(labels[i])\n",
        "    \n",
        "    print(\"{} docs removed\".format(number_of_docs - len(corpus)))\n",
        "\n",
        "    return (corpus, texts, final_labels)"
      ],
      "execution_count": 0,
      "outputs": []
    },
    {
      "cell_type": "code",
      "metadata": {
        "id": "n-19jVUuzsHe",
        "colab_type": "code",
        "outputId": "bb8fb4d2-32d6-4b25-de97-60109e88ac05",
        "colab": {
          "base_uri": "https://localhost:8080/",
          "height": 102
        }
      },
      "source": [
        "# # Preprocess the corpus to get list of documents with stop words removed and containing only the words that are present in the vocab\n",
        "corpus = [preprocess(title) for title in titles_list]\n",
        "# # still contains all the dcuments, nothing is filtered\n",
        "# # corpus[0] => ['fed', 'official', 'says', 'weak', 'data', 'caused', 'weather', 'slow', 'taper']\n",
        "# # corpus[1] => ['fed', 'charles', 'plosser', 'sees', 'high', 'bar', 'change', 'pace', 'tapering']\n",
        "\n",
        "# # Remove docs that don't include any words in W2V's vocab\n",
        "corpus, titles_list, labels = filter_docs(corpus, titles_list, labels, lambda doc: has_vector_representation(model, doc))\n",
        "print(\"1st filter\",len(corpus), len(titles_list), len(labels))\n",
        "# # corpus[0] => ['fed', 'official', 'says', 'weak', 'data', 'caused', 'weather', 'slow', 'taper']\n",
        "# # corpus[1] => ['fed', 'charles', 'plosser', 'sees', 'high', 'bar', 'change', 'pace', 'tapering']\n",
        "# # titles_list[0] => Fed official says weak data caused by weather, should not slow taper\n",
        "# # titles_list[1] => Fed's Charles Plosser sees high bar for change in pace of tapering\n",
        "\n",
        "\n",
        "# # Filter out any empty docs\n",
        "corpus, titles_list, labels = filter_docs(corpus, titles_list, labels, lambda doc: (len(doc) != 0))\n",
        "print(\"2nd filter\",len(corpus), len(titles_list), len(labels))\n",
        "# # corpus[0] => ['fed', 'official', 'says', 'weak', 'data', 'caused', 'weather', 'slow', 'taper']\n",
        "# # titles_list[0] => Fed official says weak data caused by weather, should not slow taper\n",
        "\n",
        "x = []\n",
        "for doc in corpus: # append the vector for each document\n",
        "    x.append(document_vector(model, doc))\n",
        "    \n",
        "vectorsForEachDocument = np.array(x) # list to array\n",
        "labels = np.array(labels)\n",
        "len(vectorsForEachDocument)"
      ],
      "execution_count": 32,
      "outputs": [
        {
          "output_type": "stream",
          "text": [
            "0 docs removed\n",
            "1st filter 422178 422178 422178\n",
            "0 docs removed\n",
            "2nd filter 422178 422178 422178\n"
          ],
          "name": "stdout"
        },
        {
          "output_type": "execute_result",
          "data": {
            "text/plain": [
              "422178"
            ]
          },
          "metadata": {
            "tags": []
          },
          "execution_count": 32
        }
      ]
    },
    {
      "cell_type": "markdown",
      "metadata": {
        "id": "AAtrcPVp7rkr",
        "colab_type": "text"
      },
      "source": [
        "# **What all does the data contain at the moment.**\n",
        "\n",
        "---\n",
        "corpus: A list containing a list of words of which stop words are removed. Only the words that are present in the vocab are present here.<br>\n",
        "titles_list: It contains a list of all titles.<br>\n",
        "vectorsForEachDocument: It contains vectors for each document. This attribute can be used as the feature.<br>\n",
        "labels: Contains the category for respective title. This attribute can be used as the label.<br>"
      ]
    },
    {
      "cell_type": "code",
      "metadata": {
        "id": "NQn1TGh01kGP",
        "colab_type": "code",
        "colab": {
          "base_uri": "https://localhost:8080/",
          "height": 34
        },
        "outputId": "037f3b50-7b13-4339-c53a-b4bd7b92ca9d"
      },
      "source": [
        "# vectorsForEachDocument.shape\n",
        "labels = labels.reshape(len(labels),1)\n",
        "labels.shape"
      ],
      "execution_count": 37,
      "outputs": [
        {
          "output_type": "execute_result",
          "data": {
            "text/plain": [
              "(422178, 1)"
            ]
          },
          "metadata": {
            "tags": []
          },
          "execution_count": 37
        }
      ]
    },
    {
      "cell_type": "markdown",
      "metadata": {
        "id": "17fLx5KcBoI8",
        "colab_type": "text"
      },
      "source": [
        "# Split the data\n",
        "---\n",
        "**Train Data**: Use 80% of the data for training purpose. <br>\n",
        "**Test Data**: Use 20% of the data for testing purpose. <br>\n",
        "**Features**: Use 300 dimensional vectors as features. It can be found in `vectorsForEachDocument`.<br>\n",
        "**Labels**: Use the categories as labels. I can be found in `labels`.<br>"
      ]
    },
    {
      "cell_type": "code",
      "metadata": {
        "id": "YvfSgoRmBdIp",
        "colab_type": "code",
        "colab": {
          "base_uri": "https://localhost:8080/",
          "height": 34
        },
        "outputId": "d641e5b5-610c-4e55-81c1-931e28d22a85"
      },
      "source": [
        "train = int((80/100)*len(vectorsForEachDocument))\n",
        "trainFeatures, testFeatures = vectorsForEachDocument[:train], vectorsForEachDocument[train:]\n",
        "trainLabels, testLabels = labels[:train], labels[train:]\n",
        "trainFeatures.shape, trainLabels.shape, testFeatures.shape, testLabels.shape"
      ],
      "execution_count": 39,
      "outputs": [
        {
          "output_type": "execute_result",
          "data": {
            "text/plain": [
              "((337742, 300), (337742, 1), (84436, 300), (84436, 1))"
            ]
          },
          "metadata": {
            "tags": []
          },
          "execution_count": 39
        }
      ]
    },
    {
      "cell_type": "markdown",
      "metadata": {
        "id": "KPMISgZnDsB6",
        "colab_type": "text"
      },
      "source": [
        "**Lengths of Training and test data** <br>\n",
        "Training Set contains 337742 records.<br>\n",
        "Test Set contains 84436 records.<br><br>\n",
        "**Shapes of the data** <br>\n",
        "trainFeatures: (337742,300) <br>\n",
        "trainLabels: (337742,1) <br>\n",
        "testFeatures: (84436,300) <br>\n",
        "testLabels: (84436,1) <br>"
      ]
    }
  ]
}